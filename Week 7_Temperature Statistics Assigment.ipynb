{
 "cells": [
  {
   "cell_type": "markdown",
   "id": "7185f5df",
   "metadata": {},
   "source": [
    "## EXPLORATORY DATA ANALYSIS"
   ]
  },
  {
   "cell_type": "code",
   "execution_count": 11,
   "id": "3b23d16e",
   "metadata": {},
   "outputs": [],
   "source": [
    "# create a list and check for statistical summary(mean, max, min,mode, median, range, variance, std, and mean deviation)\n",
    "\n",
    "# Temperature list\n",
    "temp = [36,39,31,35,38,33,30,37,36,31,35,38,33,30,30,39,35,34,33,36]"
   ]
  },
  {
   "cell_type": "markdown",
   "id": "2601d9d0",
   "metadata": {},
   "source": [
    "### Min Temperature\n"
   ]
  },
  {
   "cell_type": "code",
   "execution_count": 12,
   "id": "4d3c8619",
   "metadata": {},
   "outputs": [
    {
     "name": "stdout",
     "output_type": "stream",
     "text": [
      " The minimum temperature from the list is: 30.00\n"
     ]
    }
   ],
   "source": [
    "# sort temp in ascending order and find the min value\n",
    "\n",
    "minTemp = min(sorted(temp))\n",
    "\n",
    "print(f\" The minimum temperature from the list is: {minTemp:.2f}\")"
   ]
  },
  {
   "cell_type": "markdown",
   "id": "0655ce6d",
   "metadata": {},
   "source": [
    "### Max Temperature"
   ]
  },
  {
   "cell_type": "code",
   "execution_count": 13,
   "id": "f761bb79",
   "metadata": {},
   "outputs": [
    {
     "name": "stdout",
     "output_type": "stream",
     "text": [
      " The maximum temperature from the list is: 39.00\n"
     ]
    }
   ],
   "source": [
    "# sort temp in ascending order and find the max value\n",
    "\n",
    "maxTemp = max(sorted(temp))\n",
    "\n",
    "print(f\" The maximum temperature from the list is: {maxTemp:.2f}\")"
   ]
  },
  {
   "cell_type": "markdown",
   "id": "669111bb",
   "metadata": {},
   "source": [
    "### Mean Temperature"
   ]
  },
  {
   "cell_type": "code",
   "execution_count": 14,
   "id": "42450851",
   "metadata": {},
   "outputs": [
    {
     "name": "stdout",
     "output_type": "stream",
     "text": [
      " The mean temperature from the list is: 34.45\n"
     ]
    }
   ],
   "source": [
    "# the sum function gets the total of number in the list and divides by the lenght of numbers in the using the len() function\n",
    "meanTemp = sum(temp)/len(temp)\n",
    "\n",
    "print(f\" The mean temperature from the list is: {meanTemp:.2f}\")"
   ]
  },
  {
   "cell_type": "markdown",
   "id": "ccce4142",
   "metadata": {},
   "source": [
    "### Median Temperature"
   ]
  },
  {
   "cell_type": "code",
   "execution_count": 15,
   "id": "a58af9bd",
   "metadata": {},
   "outputs": [
    {
     "name": "stdout",
     "output_type": "stream",
     "text": [
      " The median temperature from the list is: 35.00\n"
     ]
    }
   ],
   "source": [
    "# import statistics module to use median  after sorting\n",
    "import statistics \n",
    "\n",
    "medianTemp = statistics.median(sorted(temp))\n",
    "\n",
    "print(f\" The median temperature from the list is: {medianTemp:.2f}\")"
   ]
  },
  {
   "cell_type": "markdown",
   "id": "c8daf62b",
   "metadata": {},
   "source": [
    "### Mode "
   ]
  },
  {
   "cell_type": "code",
   "execution_count": 16,
   "id": "884ddc8f",
   "metadata": {},
   "outputs": [
    {
     "name": "stdout",
     "output_type": "stream",
     "text": [
      " The mode of temperature from the list is: 30.00\n"
     ]
    }
   ],
   "source": [
    "# import statistics module to use mode function after sorting\n",
    "\n",
    "modeTemp = statistics.mode(sorted(temp))\n",
    "\n",
    "print(f\" The mode of temperature from the list is: {modeTemp:.2f}\")"
   ]
  },
  {
   "cell_type": "markdown",
   "id": "5a588b2f",
   "metadata": {},
   "source": [
    "### Range"
   ]
  },
  {
   "cell_type": "code",
   "execution_count": 17,
   "id": "06a87dfd",
   "metadata": {},
   "outputs": [
    {
     "name": "stdout",
     "output_type": "stream",
     "text": [
      " The range of the temperature list is: 9.00\n"
     ]
    }
   ],
   "source": [
    "# range calculates the difference between highest temperature and lowest temperature in the list\n",
    "# max() function gets the highest temperature value \n",
    "# min() function gets the lowest temperature value\n",
    "\n",
    "rangeTemp = max(temp) - min(temp) \n",
    "\n",
    "print(f\" The range of the temperature list is: {rangeTemp:.2f}\")"
   ]
  },
  {
   "cell_type": "markdown",
   "id": "4d540ed5",
   "metadata": {},
   "source": [
    "### Variance"
   ]
  },
  {
   "cell_type": "code",
   "execution_count": 18,
   "id": "ef7477c7",
   "metadata": {},
   "outputs": [
    {
     "name": "stdout",
     "output_type": "stream",
     "text": [
      " The variance of temperature list is: 8.55\n"
     ]
    }
   ],
   "source": [
    "'''\n",
    "variance measures how far from the mean the individual observations in the data are\n",
    "\n",
    "Formula:σ2 = Σ (Xi - µ)2 / N\n",
    "''' \n",
    "variance = sum((x - meanTemp)**2 for x in temp) / len(temp)\n",
    "\n",
    "print(f\" The variance of temperature list is: {variance:.2f}\")"
   ]
  },
  {
   "cell_type": "markdown",
   "id": "449145e9",
   "metadata": {},
   "source": [
    "### Mean Deviation"
   ]
  },
  {
   "cell_type": "code",
   "execution_count": 19,
   "id": "c2ea44fe",
   "metadata": {},
   "outputs": [
    {
     "name": "stdout",
     "output_type": "stream",
     "text": [
      " The mean deviation of temperature list is: 2.50\n"
     ]
    }
   ],
   "source": [
    "'''\n",
    "Mean deviation is defined as a statistical measure that is used to calculate the average deviation from the mean value \n",
    "of a given dataset.\n",
    "\n",
    "Formula:  mD = [Σ |X - µ] / N\n",
    "\n",
    "Step 1 - It is calculated by first finding the mean of the dataset = meanTemp\n",
    "Step 2 - Then, subtract the mean from each of the temp values given = for loop (x) to iterate over each value, then minus mean from x\n",
    "Step 3 - lastly, find the mean of the values obtained in step 2 = sum of the values / length of values\n",
    "'''\n",
    "\n",
    "meanDev = sum(abs(x - meanTemp) for x in temp) / len(temp)\n",
    "\n",
    "print(f\" The mean deviation of temperature list is: {meanDev:.2f}\")"
   ]
  },
  {
   "cell_type": "markdown",
   "id": "f5cdef7f",
   "metadata": {},
   "source": [
    "### Standard Deviation"
   ]
  },
  {
   "cell_type": "code",
   "execution_count": 20,
   "id": "cb5ee5a3",
   "metadata": {},
   "outputs": [
    {
     "name": "stdout",
     "output_type": "stream",
     "text": [
      " The standard deviation of temperature list is: 2.92\n"
     ]
    }
   ],
   "source": [
    "'''\n",
    "standard deviation measures the amount of variation or dispersion of a dataset. \n",
    "It is calculated by finding the square root of the variance\n",
    "\n",
    "'''\n",
    "# using the math module, we can use the sqrt() to find square root of a number\n",
    "import math\n",
    "std = math.sqrt(variance)\n",
    "\n",
    "print(f\" The standard deviation of temperature list is: {std:.2f}\")"
   ]
  }
 ],
 "metadata": {
  "kernelspec": {
   "display_name": "Python 3 (ipykernel)",
   "language": "python",
   "name": "python3"
  },
  "language_info": {
   "codemirror_mode": {
    "name": "ipython",
    "version": 3
   },
   "file_extension": ".py",
   "mimetype": "text/x-python",
   "name": "python",
   "nbconvert_exporter": "python",
   "pygments_lexer": "ipython3",
   "version": "3.10.9"
  }
 },
 "nbformat": 4,
 "nbformat_minor": 5
}
